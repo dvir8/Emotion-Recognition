{
  "nbformat": 4,
  "nbformat_minor": 0,
  "metadata": {
    "colab": {
      "name": "Voice Sentiment Analysis.ipynb",
      "provenance": []
    },
    "kernelspec": {
      "name": "python3",
      "display_name": "Python 3"
    },
    "language_info": {
      "name": "python"
    }
  },
  "cells": [
    {
      "cell_type": "code",
      "execution_count": 2,
      "metadata": {
        "colab": {
          "base_uri": "https://localhost:8080/"
        },
        "id": "MuYJQuuoybRa",
        "outputId": "2046d417-9be8-4864-9492-3936a6969498"
      },
      "outputs": [
        {
          "output_type": "stream",
          "name": "stdout",
          "text": [
            "Mounted at /content/drive\n"
          ]
        }
      ],
      "source": [
        "import librosa\n",
        "import soundfile\n",
        "import seaborn\n",
        "import os, glob, pickle\n",
        "import numpy as np\n",
        "import sklearn\n",
        "from sklearn.model_selection import train_test_split\n",
        "from sklearn.neural_network import MLPClassifier\n",
        "from sklearn.metrics import accuracy_score\n",
        "from google.colab import drive\n",
        "drive.mount('/content/drive')"
      ]
    },
    {
      "cell_type": "markdown",
      "source": [
        "Importing data, features were extracted in another script to a csv file"
      ],
      "metadata": {
        "id": "wLhx0P-r8Gyw"
      }
    },
    {
      "cell_type": "code",
      "source": [
        "import pandas as pd\n",
        "path = '/content/drive/MyDrive/emotion analysis/emotional_data.csv'\n",
        "data = pd.read_csv(path)\n",
        "print(data)"
      ],
      "metadata": {
        "id": "ptIhbdZcdcjQ",
        "colab": {
          "base_uri": "https://localhost:8080/"
        },
        "outputId": "d12dc1d4-c800-45a0-f5c1-721f5dab3588"
      },
      "execution_count": 3,
      "outputs": [
        {
          "output_type": "stream",
          "name": "stdout",
          "text": [
            "     Unnamed: 0   mfcc0mean      mfcc0var  ...  mfcc9mean    mfcc9var    y\n",
            "0             0 -646.130310  36631.746094  ...  -2.075405  107.059120  3.0\n",
            "1             1 -631.581116  34286.812500  ...  -1.056522  110.292526  3.0\n",
            "2             2 -656.408325  33664.078125  ...  -2.994081  122.703697  3.0\n",
            "3             3 -652.928711  38811.269531  ...  -3.219101  128.831512  3.0\n",
            "4             4 -596.791260  36425.089844  ...  -8.588349  157.763321  3.0\n",
            "..          ...         ...           ...  ...        ...         ...  ...\n",
            "763         763 -537.174927  32594.867188  ...  -2.256565  118.073402  6.0\n",
            "764         764 -426.846283  20284.859375  ...   0.745503  136.302719  6.0\n",
            "765         765 -476.993042  19156.449219  ...  -3.960705   89.316643  6.0\n",
            "766         766 -455.009979  20322.203125  ...   2.547016  214.800552  6.0\n",
            "767         767 -437.571106  23304.939453  ...   3.988705  131.432602  6.0\n",
            "\n",
            "[768 rows x 28 columns]\n"
          ]
        }
      ]
    },
    {
      "cell_type": "code",
      "source": [
        "x = data.iloc[:, 1:-2]\n",
        "y = data[['y']]\n",
        "print(x)\n",
        "print(y)"
      ],
      "metadata": {
        "colab": {
          "base_uri": "https://localhost:8080/"
        },
        "id": "JzjAYiri4L88",
        "outputId": "fbf134d6-0803-4d3b-f807-8b9c43f13b43"
      },
      "execution_count": 4,
      "outputs": [
        {
          "output_type": "stream",
          "name": "stdout",
          "text": [
            "      mfcc0mean      mfcc0var  mfcc10mean  ...  mfcc8mean    mfcc8var  mfcc9mean\n",
            "0   -646.130310  36631.746094   -1.588587  ... -11.837653  287.862701  -2.075405\n",
            "1   -631.581116  34286.812500   -0.162012  ... -13.980430  407.221466  -1.056522\n",
            "2   -656.408325  33664.078125    2.057793  ... -14.088727  295.278351  -2.994081\n",
            "3   -652.928711  38811.269531    0.240284  ... -13.817194  367.334320  -3.219101\n",
            "4   -596.791260  36425.089844   -1.057006  ... -11.485936  198.528595  -8.588349\n",
            "..          ...           ...         ...  ...        ...         ...        ...\n",
            "763 -537.174927  32594.867188   -7.259454  ...  -5.775849  219.336166  -2.256565\n",
            "764 -426.846283  20284.859375   -0.901244  ... -11.093510  214.396973   0.745503\n",
            "765 -476.993042  19156.449219   -7.573741  ...  -9.876807  212.346039  -3.960705\n",
            "766 -455.009979  20322.203125    0.299338  ... -12.002703  281.913727   2.547016\n",
            "767 -437.571106  23304.939453    4.320174  ... -12.128214  324.795197   3.988705\n",
            "\n",
            "[768 rows x 25 columns]\n",
            "       y\n",
            "0    3.0\n",
            "1    3.0\n",
            "2    3.0\n",
            "3    3.0\n",
            "4    3.0\n",
            "..   ...\n",
            "763  6.0\n",
            "764  6.0\n",
            "765  6.0\n",
            "766  6.0\n",
            "767  6.0\n",
            "\n",
            "[768 rows x 1 columns]\n"
          ]
        }
      ]
    },
    {
      "cell_type": "markdown",
      "source": [
        "Normalizing the data"
      ],
      "metadata": {
        "id": "Ljha782A8COU"
      }
    },
    {
      "cell_type": "code",
      "source": [
        "from sklearn import preprocessing\n",
        "\n",
        "def normalize(x):\n",
        "  x = x.values  # returns a numpy array\n",
        "  min_max_scaler = preprocessing.MinMaxScaler()\n",
        "  x_scaled = min_max_scaler.fit_transform(x)\n",
        "  X_norm = pd.DataFrame(x_scaled)\n",
        "  return X_norm\n",
        "\n"
      ],
      "metadata": {
        "id": "qsZzrkDS5dNA"
      },
      "execution_count": 5,
      "outputs": []
    },
    {
      "cell_type": "code",
      "source": [
        "normalized_x = normalize(x)\n",
        "print(normalized_x)"
      ],
      "metadata": {
        "id": "yibfK0Gt0SpL",
        "colab": {
          "base_uri": "https://localhost:8080/"
        },
        "outputId": "baf5802f-7d38-469e-98f1-f1b7488e2daf"
      },
      "execution_count": 6,
      "outputs": [
        {
          "output_type": "stream",
          "name": "stdout",
          "text": [
            "           0         1         2   ...        22        23        24\n",
            "0    0.360674  0.630086  0.562810  ...  0.439251  0.419623  0.391160\n",
            "1    0.387877  0.564488  0.613485  ...  0.362628  0.625096  0.414439\n",
            "2    0.341457  0.547068  0.692336  ...  0.358756  0.432389  0.370171\n",
            "3    0.347963  0.691056  0.627775  ...  0.368465  0.556431  0.365030\n",
            "4    0.452925  0.624305  0.581693  ...  0.451828  0.265837  0.242356\n",
            "..        ...       ...       ...  ...       ...       ...       ...\n",
            "763  0.564391  0.517157  0.361370  ...  0.656014  0.301657  0.387021\n",
            "764  0.770675  0.172795  0.587226  ...  0.465861  0.293154  0.455611\n",
            "765  0.676914  0.141228  0.350206  ...  0.509369  0.289623  0.348086\n",
            "766  0.718017  0.173839  0.629873  ...  0.433349  0.409382  0.496771\n",
            "767  0.750623  0.257279  0.772700  ...  0.428861  0.483201  0.529709\n",
            "\n",
            "[768 rows x 25 columns]\n"
          ]
        }
      ]
    },
    {
      "cell_type": "code",
      "source": [
        "from sklearn.model_selection import train_test_split\n",
        "import math\n",
        "x_train,x_test,y_train,y_test = train_test_split(normalized_x, y, test_size=0.3, shuffle=True)\n"
      ],
      "metadata": {
        "id": "_bjaM7Sx9kIU"
      },
      "execution_count": 7,
      "outputs": []
    },
    {
      "cell_type": "markdown",
      "source": [
        "Let's have a look on our data with PCA"
      ],
      "metadata": {
        "id": "gqx8Yezrz3Qx"
      }
    },
    {
      "cell_type": "code",
      "source": [
        "from sklearn.decomposition import PCA\n",
        "import seaborn as sns\n",
        "from matplotlib import pyplot as plt\n",
        "pca = PCA(n_components=2)\n",
        "pc = pca.fit_transform(x_train)  \n",
        "pc_df = pd.DataFrame(data = pc, columns = ['pc1', 'pc2'])\n",
        "final_data_frame = pd.concat([pc_df, y_train], axis = 1)\n",
        "plt.figure(figsize = (16, 9))\n",
        "sns.scatterplot(x=\"pc1\", y=\"pc2\", data=final_data_frame, hue=\"y\", alpha=0.7, s=100);\n",
        "plt.xticks(fontsize=14)\n",
        "plt.yticks(fontsize=10)\n",
        "plt.show()"
      ],
      "metadata": {
        "colab": {
          "base_uri": "https://localhost:8080/",
          "height": 559
        },
        "id": "A3aq8V1czFIz",
        "outputId": "e259889a-4c91-40b2-b493-95f1863b8c91"
      },
      "execution_count": 9,
      "outputs": [
        {
          "output_type": "display_data",
          "data": {
            "image/png": "[encoded data removed]",
            "text/plain": [
              "<Figure size 1152x648 with 1 Axes>"
            ]
          },
          "metadata": {
            "needs_background": "light"
          }
        }
      ]
    },
    {
      "cell_type": "markdown",
      "source": [
        "May be we can have a better look in 3D"
      ],
      "metadata": {
        "id": "Acp3p2pm2GuO"
      }
    },
    {
      "cell_type": "markdown",
      "source": [
        ""
      ],
      "metadata": {
        "id": "pxg7pHic9BAg"
      }
    },
    {
      "cell_type": "markdown",
      "source": [
        "Training KNN"
      ],
      "metadata": {
        "id": "IuGFi3yR79pc"
      }
    },
    {
      "cell_type": "code",
      "source": [
        "from sklearn.neighbors import KNeighborsClassifier\n",
        "neighbors = round(math.sqrt(537)/2)\n",
        "knn = KNeighborsClassifier(n_neighbors=neighbors)\n",
        "knn.fit(x_train,y_train.values.ravel())\n",
        "print(knn.score(x_test,y_test))"
      ],
      "metadata": {
        "colab": {
          "base_uri": "https://localhost:8080/"
        },
        "id": "avANiHD86U4C",
        "outputId": "c3dff15d-9dbb-4be8-83d3-f3d55759413e"
      },
      "execution_count": 8,
      "outputs": [
        {
          "output_type": "stream",
          "name": "stdout",
          "text": [
            "0.6883116883116883\n"
          ]
        }
      ]
    },
    {
      "cell_type": "markdown",
      "source": [
        "It's not optimal or good for production, but it's better than taking a guess"
      ],
      "metadata": {
        "id": "ZwkOX8FjAZHI"
      }
    },
    {
      "cell_type": "markdown",
      "source": [
        "SVM for Multiclass (Scikit Learn implementation uses one vs one approach\n",
        "First we'll try linear kernel"
      ],
      "metadata": {
        "id": "9yXfhoktsqSJ"
      }
    },
    {
      "cell_type": "code",
      "source": [
        "from sklearn.svm import SVC\n",
        "from sklearn.svm import LinearSVC\n",
        "lin_svc = LinearSVC()\n",
        "lin_svc.fit(x_train,y_train.values.ravel())\n",
        "print(lin_svc.score(x_test,y_test))"
      ],
      "metadata": {
        "colab": {
          "base_uri": "https://localhost:8080/"
        },
        "id": "oP0PglNks68M",
        "outputId": "557d1c1d-f881-4e0b-a314-7a9729dd77dd"
      },
      "execution_count": 9,
      "outputs": [
        {
          "output_type": "stream",
          "name": "stdout",
          "text": [
            "0.6536796536796536\n"
          ]
        }
      ]
    },
    {
      "cell_type": "markdown",
      "source": [
        "RBF kernel"
      ],
      "metadata": {
        "id": "6gNs84Ptu3kl"
      }
    },
    {
      "cell_type": "code",
      "source": [
        "rbf_svc =SVC()\n",
        "rbf_svc.fit(x_train,y_train.values.ravel())\n",
        "print(rbf_svc.score(x_test,y_test))"
      ],
      "metadata": {
        "colab": {
          "base_uri": "https://localhost:8080/"
        },
        "id": "RVYsl_wBuspl",
        "outputId": "9e5b8095-6e60-41f3-82e6-5625d09980a0"
      },
      "execution_count": 10,
      "outputs": [
        {
          "output_type": "stream",
          "name": "stdout",
          "text": [
            "0.70995670995671\n"
          ]
        }
      ]
    },
    {
      "cell_type": "markdown",
      "source": [
        "RBF is a non linear classifier and therefore we can see some improvement in the results"
      ],
      "metadata": {
        "id": "JPhtlUKMu5sG"
      }
    },
    {
      "cell_type": "code",
      "source": [
        "poly_svc = SVC(kernel='poly')\n",
        "poly_svc.fit(x_train, y_train.values.ravel())\n",
        "print(poly_svc.score(x_test,y_test))"
      ],
      "metadata": {
        "colab": {
          "base_uri": "https://localhost:8080/"
        },
        "id": "QJmY23N9vCct",
        "outputId": "a6c40346-7c23-446c-eafc-1fb67bc99ad5"
      },
      "execution_count": 11,
      "outputs": [
        {
          "output_type": "stream",
          "name": "stdout",
          "text": [
            "0.7272727272727273\n"
          ]
        }
      ]
    },
    {
      "cell_type": "markdown",
      "source": [
        "And the winning kernel is....\n",
        "Polynomial Kernel"
      ],
      "metadata": {
        "id": "2ex0BOtfvTB7"
      }
    },
    {
      "cell_type": "markdown",
      "source": [
        "MultiLayer Perceptron - Deep Neural Network"
      ],
      "metadata": {
        "id": "BYMJNM0IvguL"
      }
    },
    {
      "cell_type": "code",
      "source": [
        "mlp_model=MLPClassifier(alpha=0.01, epsilon=1e-08, hidden_layer_sizes=(500,), learning_rate='adaptive', max_iter=10000)\n",
        "mlp_model.fit(x_train,y_train)"
      ],
      "metadata": {
        "id": "KTuom6O1v9ig",
        "colab": {
          "base_uri": "https://localhost:8080/"
        },
        "outputId": "b4600068-4392-4acb-a8bf-7eaaa5f3c2cd"
      },
      "execution_count": null,
      "outputs": [
        {
          "output_type": "stream",
          "name": "stderr",
          "text": [
            "/usr/local/lib/python3.7/dist-packages/sklearn/neural_network/_multilayer_perceptron.py:1109: DataConversionWarning: A column-vector y was passed when a 1d array was expected. Please change the shape of y to (n_samples, ), for example using ravel().\n",
            "  y = column_or_1d(y, warn=True)\n"
          ]
        },
        {
          "output_type": "execute_result",
          "data": {
            "text/plain": [
              "MLPClassifier(alpha=0.01, hidden_layer_sizes=(500,), learning_rate='adaptive',\n",
              "              max_iter=10000)"
            ]
          },
          "metadata": {},
          "execution_count": 17
        }
      ]
    },
    {
      "cell_type": "code",
      "source": [
        "print(mlp_model.score(x_test,y_test))"
      ],
      "metadata": {
        "colab": {
          "base_uri": "https://localhost:8080/"
        },
        "id": "zjJp4S9Yw0gc",
        "outputId": "75d24402-5c3b-4c53-d717-d25e15b88f07"
      },
      "execution_count": null,
      "outputs": [
        {
          "output_type": "stream",
          "name": "stdout",
          "text": [
            "0.7489177489177489\n"
          ]
        }
      ]
    },
    {
      "cell_type": "code",
      "source": [
        "mlp_model=MLPClassifier(alpha=0.01, epsilon=1e-08, hidden_layer_sizes=(600,500,400,300), learning_rate='adaptive', max_iter=10000)\n",
        "mlp_model.fit(x_train,y_train)\n",
        "print(mlp_model.score(x_test,y_test))"
      ],
      "metadata": {
        "colab": {
          "base_uri": "https://localhost:8080/"
        },
        "id": "eUeT6UF44kkd",
        "outputId": "461d1f20-e4d4-421e-d3f3-26509bb6a693"
      },
      "execution_count": 153,
      "outputs": [
        {
          "output_type": "stream",
          "name": "stderr",
          "text": [
            "/usr/local/lib/python3.7/dist-packages/sklearn/neural_network/_multilayer_perceptron.py:1109: DataConversionWarning: A column-vector y was passed when a 1d array was expected. Please change the shape of y to (n_samples, ), for example using ravel().\n",
            "  y = column_or_1d(y, warn=True)\n"
          ]
        },
        {
          "output_type": "stream",
          "name": "stdout",
          "text": [
            "0.7792207792207793\n"
          ]
        }
      ]
    },
    {
      "cell_type": "markdown",
      "source": [
        "Adaboost Clasiifier"
      ],
      "metadata": {
        "id": "R9mMStIE9ODS"
      }
    },
    {
      "cell_type": "code",
      "source": [
        "from sklearn.ensemble import AdaBoostClassifier\n",
        "adbst_classifier = AdaBoostClassifier(n_estimators=500, learning_rate=0.1)\n",
        "adbst_classifier.fit(x_train,y_train)\n",
        "print(adbst_classifier.score(x_test,y_test))"
      ],
      "metadata": {
        "colab": {
          "base_uri": "https://localhost:8080/"
        },
        "id": "albeRHzw8y38",
        "outputId": "891fc672-f0e9-451b-ca2d-e38e937cca7b"
      },
      "execution_count": 12,
      "outputs": [
        {
          "output_type": "stream",
          "name": "stderr",
          "text": [
            "/usr/local/lib/python3.7/dist-packages/sklearn/utils/validation.py:993: DataConversionWarning: A column-vector y was passed when a 1d array was expected. Please change the shape of y to (n_samples, ), for example using ravel().\n",
            "  y = column_or_1d(y, warn=True)\n"
          ]
        },
        {
          "output_type": "stream",
          "name": "stdout",
          "text": [
            "0.5367965367965368\n"
          ]
        }
      ]
    },
    {
      "cell_type": "markdown",
      "source": [
        "Emotion Intensity"
      ],
      "metadata": {
        "id": "gi8Xd1HG0aaW"
      }
    },
    {
      "cell_type": "code",
      "source": [
        "import pandas as pd\n",
        "path = '/content/drive/MyDrive/emotion analysis/data_strength.csv'\n",
        "data = pd.read_csv(path)\n",
        "print(data)"
      ],
      "metadata": {
        "colab": {
          "base_uri": "https://localhost:8080/"
        },
        "id": "J53AC-FL0e_e",
        "outputId": "0a9f85cf-3e3e-4422-e40b-be27cbb8a3b9"
      },
      "execution_count": 11,
      "outputs": [
        {
          "output_type": "stream",
          "name": "stdout",
          "text": [
            "      Unnamed: 0   mfcc0mean      mfcc0var  ...  mfcc9mean    mfcc9var    y\n",
            "0              0 -697.984192  33403.417969  ...  -2.524927   74.715950  1.0\n",
            "1              1 -693.069763  34133.593750  ...  -0.993780   67.129990  1.0\n",
            "2              2 -691.770142  36118.589844  ...  -3.344197   80.154922  1.0\n",
            "3              3 -685.237915  33945.070312  ...  -2.946320   70.905792  1.0\n",
            "4              4 -727.317932  33309.933594  ...  -4.470084   81.703636  1.0\n",
            "...          ...         ...           ...  ...        ...         ...  ...\n",
            "1435        1435 -586.762695  33574.347656  ...  -6.893698   91.481361  1.0\n",
            "1436        1436 -532.757446  35833.515625  ...  -3.168304  105.778252  2.0\n",
            "1437        1437 -541.550232  36588.097656  ...  -0.318764   81.114075  2.0\n",
            "1438        1438 -492.985962  38512.945312  ...  -4.018751  147.492828  2.0\n",
            "1439        1439 -518.293823  33614.339844  ...  -1.564242  103.520714  2.0\n",
            "\n",
            "[1440 rows x 28 columns]\n"
          ]
        }
      ]
    },
    {
      "cell_type": "code",
      "source": [
        "x = data.iloc[:, 1:-2]\n",
        "y = data[['y']]\n",
        "print(x)\n",
        "print(y)"
      ],
      "metadata": {
        "colab": {
          "base_uri": "https://localhost:8080/"
        },
        "id": "BmzjndB00lZD",
        "outputId": "f7776f63-8366-4500-db7a-88d5ffc3eebe"
      },
      "execution_count": 12,
      "outputs": [
        {
          "output_type": "stream",
          "name": "stdout",
          "text": [
            "       mfcc0mean      mfcc0var  mfcc10mean  ...  mfcc8mean    mfcc8var  mfcc9mean\n",
            "0    -697.984192  33403.417969    0.496105  ... -11.305533  299.316803  -2.524927\n",
            "1    -693.069763  34133.593750    0.494107  ... -11.981820  303.310242  -0.993780\n",
            "2    -691.770142  36118.589844    0.264550  ... -10.638001  287.102600  -3.344197\n",
            "3    -685.237915  33945.070312    0.895644  ... -10.671633  218.365448  -2.946320\n",
            "4    -727.317932  33309.933594    0.639894  ... -10.113079  192.036972  -4.470084\n",
            "...          ...           ...         ...  ...        ...         ...        ...\n",
            "1435 -586.762695  33574.347656   -8.886349  ...  -6.811911  176.340927  -6.893698\n",
            "1436 -532.757446  35833.515625   -9.269098  ...  -8.727761  189.047867  -3.168304\n",
            "1437 -541.550232  36588.097656   -6.635955  ...  -7.334210  214.224899  -0.318764\n",
            "1438 -492.985962  38512.945312   -6.121341  ...  -1.773707  124.508644  -4.018751\n",
            "1439 -518.293823  33614.339844   -8.032579  ...  -8.602053  359.500244  -1.564242\n",
            "\n",
            "[1440 rows x 25 columns]\n",
            "        y\n",
            "0     1.0\n",
            "1     1.0\n",
            "2     1.0\n",
            "3     1.0\n",
            "4     1.0\n",
            "...   ...\n",
            "1435  1.0\n",
            "1436  2.0\n",
            "1437  2.0\n",
            "1438  2.0\n",
            "1439  2.0\n",
            "\n",
            "[1440 rows x 1 columns]\n"
          ]
        }
      ]
    },
    {
      "cell_type": "code",
      "source": [
        "normalized_x = normalize(x)\n",
        "print(normalized_x)"
      ],
      "metadata": {
        "colab": {
          "base_uri": "https://localhost:8080/"
        },
        "id": "uF6QafS20vvO",
        "outputId": "04581c6d-5199-43c1-d3c1-93466bded473"
      },
      "execution_count": 13,
      "outputs": [
        {
          "output_type": "stream",
          "name": "stdout",
          "text": [
            "            0         1         2   ...        22        23        24\n",
            "0     0.277085  0.539776  0.580216  ...  0.412196  0.439341  0.380890\n",
            "1     0.286107  0.560202  0.580151  ...  0.390445  0.446216  0.415872\n",
            "2     0.288492  0.615731  0.572722  ...  0.433666  0.418315  0.362171\n",
            "3     0.300484  0.554928  0.593146  ...  0.432584  0.299985  0.371262\n",
            "4     0.223234  0.537161  0.584869  ...  0.450549  0.254662  0.336448\n",
            "...        ...       ...       ...  ...       ...       ...       ...\n",
            "1435  0.481264  0.544558  0.276578  ...  0.556724  0.227641  0.281074\n",
            "1436  0.580406  0.607756  0.264191  ...  0.495105  0.249516  0.366190\n",
            "1437  0.564265  0.628865  0.349406  ...  0.539926  0.292858  0.431295\n",
            "1438  0.653419  0.682711  0.366060  ...  0.718768  0.138413  0.346760\n",
            "1439  0.606959  0.545676  0.304208  ...  0.499148  0.542945  0.402839\n",
            "\n",
            "[1440 rows x 25 columns]\n"
          ]
        }
      ]
    },
    {
      "cell_type": "code",
      "source": [
        "x_train,x_test,y_train,y_test = train_test_split(normalized_x, y, test_size=0.3, shuffle=True)\n",
        "print(x_train.shape)"
      ],
      "metadata": {
        "id": "EpK2QmEQ046s",
        "colab": {
          "base_uri": "https://localhost:8080/"
        },
        "outputId": "df9db613-7aa9-4ad0-9ab5-1eea63226674"
      },
      "execution_count": 14,
      "outputs": [
        {
          "output_type": "stream",
          "name": "stdout",
          "text": [
            "(1008, 25)\n"
          ]
        }
      ]
    },
    {
      "cell_type": "code",
      "source": [
        "print(y_train[200:400])"
      ],
      "metadata": {
        "colab": {
          "base_uri": "https://localhost:8080/"
        },
        "id": "2ZZ1TCGi1qkS",
        "outputId": "9e17d6db-35a7-478f-dc23-52966ea34573"
      },
      "execution_count": 42,
      "outputs": [
        {
          "output_type": "stream",
          "name": "stdout",
          "text": [
            "        y\n",
            "19    2.0\n",
            "1183  2.0\n",
            "611   2.0\n",
            "288   2.0\n",
            "160   2.0\n",
            "...   ...\n",
            "843   1.0\n",
            "1300  2.0\n",
            "1212  1.0\n",
            "1369  2.0\n",
            "745   2.0\n",
            "\n",
            "[200 rows x 1 columns]\n"
          ]
        }
      ]
    },
    {
      "cell_type": "markdown",
      "source": [
        "Trying to understand the data with PCA"
      ],
      "metadata": {
        "id": "4mgqxQqHybct"
      }
    },
    {
      "cell_type": "code",
      "source": [
        "pca = PCA(n_components=2)\n",
        "pc = pca.fit_transform(x_train)  \n",
        "pc_df = pd.DataFrame(data = pc, columns = ['pc1', 'pc2'])\n",
        "final_data_frame = pd.concat([pc_df, y_train], axis = 1)\n",
        "plt.figure(figsize = (16, 9))\n",
        "sns.scatterplot(x=\"pc1\", y=\"pc2\", data=final_data_frame, hue=\"y\", alpha=0.7, s=100);\n",
        "plt.xticks(fontsize=14)\n",
        "plt.yticks(fontsize=10)\n",
        "plt.show()"
      ],
      "metadata": {
        "colab": {
          "base_uri": "https://localhost:8080/",
          "height": 555
        },
        "id": "BbFI1jI31CVt",
        "outputId": "6d0b1cd2-4ad0-4efe-b149-feda6b243129"
      },
      "execution_count": 15,
      "outputs": [
        {
          "output_type": "display_data",
          "data": {
            "image/png": "[encoded data removed]",
            "text/plain": [
              "<Figure size 1152x648 with 1 Axes>"
            ]
          },
          "metadata": {
            "needs_background": "light"
          }
        }
      ]
    },
    {
      "cell_type": "markdown",
      "source": [
        "KNN"
      ],
      "metadata": {
        "id": "_q6yo7KsUhwX"
      }
    },
    {
      "cell_type": "code",
      "source": [
        "import math\n",
        "neighbors = round(math.sqrt(1008)/2)\n",
        "knn = KNeighborsClassifier(n_neighbors=neighbors)\n",
        "knn.fit(x_train,y_train.values.ravel())\n",
        "print(knn.score(x_test,y_test))"
      ],
      "metadata": {
        "colab": {
          "base_uri": "https://localhost:8080/"
        },
        "id": "WM5zlBYn06UK",
        "outputId": "f54198af-eda1-4265-fbbe-3c1ca857ac8c"
      },
      "execution_count": 166,
      "outputs": [
        {
          "output_type": "stream",
          "name": "stdout",
          "text": [
            "0.7245370370370371\n"
          ]
        }
      ]
    },
    {
      "cell_type": "markdown",
      "source": [
        "Linear SVM"
      ],
      "metadata": {
        "id": "UOZN0ESjUkND"
      }
    },
    {
      "cell_type": "code",
      "source": [
        "lin_svc = LinearSVC()\n",
        "lin_svc.fit(x_train,y_train.values.ravel())\n",
        "print(lin_svc.score(x_test,y_test))"
      ],
      "metadata": {
        "colab": {
          "base_uri": "https://localhost:8080/"
        },
        "id": "ndD4tLP41eiT",
        "outputId": "3e305cb8-72b7-4477-d1dd-275433eadbed"
      },
      "execution_count": 168,
      "outputs": [
        {
          "output_type": "stream",
          "name": "stdout",
          "text": [
            "0.75\n"
          ]
        }
      ]
    },
    {
      "cell_type": "markdown",
      "source": [
        "Polynomial SVM"
      ],
      "metadata": {
        "id": "Vk4Ev375U0M4"
      }
    },
    {
      "cell_type": "code",
      "source": [
        "poly_svc = SVC(kernel='poly')\n",
        "poly_svc.fit(x_train, y_train.values.ravel())\n",
        "print(poly_svc.score(x_test,y_test))"
      ],
      "metadata": {
        "colab": {
          "base_uri": "https://localhost:8080/"
        },
        "id": "C-UVfKAV1ltZ",
        "outputId": "6824315d-5d9a-4270-bc36-eda3eb492659"
      },
      "execution_count": 167,
      "outputs": [
        {
          "output_type": "stream",
          "name": "stdout",
          "text": [
            "0.7916666666666666\n"
          ]
        }
      ]
    },
    {
      "cell_type": "markdown",
      "source": [
        "Adaboost"
      ],
      "metadata": {
        "id": "yCQb3E4eU2Mb"
      }
    },
    {
      "cell_type": "code",
      "source": [
        "adbst_classifier = AdaBoostClassifier(n_estimators=500, learning_rate=0.1)\n",
        "adbst_classifier.fit(x_train,y_train)\n",
        "print(adbst_classifier.score(x_test,y_test))\n"
      ],
      "metadata": {
        "colab": {
          "base_uri": "https://localhost:8080/"
        },
        "id": "HwJJ8phC1s0d",
        "outputId": "50fd3f00-3636-430e-a5ac-9f8d3ff04251"
      },
      "execution_count": 169,
      "outputs": [
        {
          "output_type": "stream",
          "name": "stderr",
          "text": [
            "/usr/local/lib/python3.7/dist-packages/sklearn/utils/validation.py:993: DataConversionWarning: A column-vector y was passed when a 1d array was expected. Please change the shape of y to (n_samples, ), for example using ravel().\n",
            "  y = column_or_1d(y, warn=True)\n"
          ]
        },
        {
          "output_type": "stream",
          "name": "stdout",
          "text": [
            "0.7314814814814815\n"
          ]
        }
      ]
    },
    {
      "cell_type": "markdown",
      "source": [
        "MLP"
      ],
      "metadata": {
        "id": "IXKFdBwTU4FE"
      }
    },
    {
      "cell_type": "code",
      "source": [
        "mlp_model=MLPClassifier(alpha=0.01, epsilon=1e-08, hidden_layer_sizes=(600,500,400,300), learning_rate='adaptive', max_iter=10000)\n",
        "mlp_model.fit(x_train,y_train)\n",
        "print(mlp_model.score(x_test,y_test))"
      ],
      "metadata": {
        "colab": {
          "base_uri": "https://localhost:8080/"
        },
        "id": "9x7JPseB2Als",
        "outputId": "fb07967a-47c2-4122-8816-5071dc80b6cc"
      },
      "execution_count": 171,
      "outputs": [
        {
          "output_type": "stream",
          "name": "stderr",
          "text": [
            "/usr/local/lib/python3.7/dist-packages/sklearn/neural_network/_multilayer_perceptron.py:1109: DataConversionWarning: A column-vector y was passed when a 1d array was expected. Please change the shape of y to (n_samples, ), for example using ravel().\n",
            "  y = column_or_1d(y, warn=True)\n"
          ]
        },
        {
          "output_type": "stream",
          "name": "stdout",
          "text": [
            "0.7708333333333334\n"
          ]
        }
      ]
    },
    {
      "cell_type": "markdown",
      "source": [
        "Trying with 20 mfcc"
      ],
      "metadata": {
        "id": "DB0uqWJ2U7Fs"
      }
    },
    {
      "cell_type": "code",
      "source": [
        "path = '/content/drive/MyDrive/emotion analysis/data_20.csv'\n",
        "data = pd.read_csv(path)\n",
        "print(data)"
      ],
      "metadata": {
        "colab": {
          "base_uri": "https://localhost:8080/"
        },
        "id": "ZySejNdQzXE2",
        "outputId": "2ab25302-aa38-420e-e904-bd4f73221e3f"
      },
      "execution_count": 172,
      "outputs": [
        {
          "output_type": "stream",
          "name": "stdout",
          "text": [
            "     Unnamed: 0   mfcc0mean      mfcc0var  ...  mfcc9mean    mfcc9var    y\n",
            "0             0 -646.130310  36631.746094  ...  -2.075405  107.059120  3.0\n",
            "1             1 -631.581116  34286.812500  ...  -1.056522  110.292526  3.0\n",
            "2             2 -656.408325  33664.078125  ...  -2.994081  122.703697  3.0\n",
            "3             3 -652.928711  38811.269531  ...  -3.219101  128.831512  3.0\n",
            "4             4 -596.791260  36425.089844  ...  -8.588349  157.763321  3.0\n",
            "..          ...         ...           ...  ...        ...         ...  ...\n",
            "763         763 -537.174927  32594.867188  ...  -2.256565  118.073402  6.0\n",
            "764         764 -426.846283  20284.859375  ...   0.745503  136.302719  6.0\n",
            "765         765 -476.993042  19156.449219  ...  -3.960705   89.316643  6.0\n",
            "766         766 -455.009979  20322.203125  ...   2.547016  214.800552  6.0\n",
            "767         767 -437.571106  23304.939453  ...   3.988705  131.432602  6.0\n",
            "\n",
            "[768 rows x 42 columns]\n"
          ]
        }
      ]
    },
    {
      "cell_type": "code",
      "source": [
        "x = data.iloc[:, 1:-2]\n",
        "y = data[['y']]\n",
        "print(x)\n",
        "print(y)"
      ],
      "metadata": {
        "colab": {
          "base_uri": "https://localhost:8080/"
        },
        "id": "L1jZu4sf71q_",
        "outputId": "b6dfd397-f378-4c1f-e51b-5b4ae9aa11ac"
      },
      "execution_count": 173,
      "outputs": [
        {
          "output_type": "stream",
          "name": "stdout",
          "text": [
            "      mfcc0mean      mfcc0var  mfcc10mean  ...  mfcc8mean    mfcc8var  mfcc9mean\n",
            "0   -646.130310  36631.746094   -1.588587  ... -11.837653  287.862701  -2.075405\n",
            "1   -631.581116  34286.812500   -0.162012  ... -13.980430  407.221466  -1.056522\n",
            "2   -656.408325  33664.078125    2.057793  ... -14.088727  295.278351  -2.994081\n",
            "3   -652.928711  38811.269531    0.240284  ... -13.817194  367.334320  -3.219101\n",
            "4   -596.791260  36425.089844   -1.057006  ... -11.485936  198.528595  -8.588349\n",
            "..          ...           ...         ...  ...        ...         ...        ...\n",
            "763 -537.174927  32594.867188   -7.259454  ...  -5.775849  219.336166  -2.256565\n",
            "764 -426.846283  20284.859375   -0.901244  ... -11.093510  214.396973   0.745503\n",
            "765 -476.993042  19156.449219   -7.573741  ...  -9.876807  212.346039  -3.960705\n",
            "766 -455.009979  20322.203125    0.299338  ... -12.002703  281.913727   2.547016\n",
            "767 -437.571106  23304.939453    4.320174  ... -12.128214  324.795197   3.988705\n",
            "\n",
            "[768 rows x 39 columns]\n",
            "       y\n",
            "0    3.0\n",
            "1    3.0\n",
            "2    3.0\n",
            "3    3.0\n",
            "4    3.0\n",
            "..   ...\n",
            "763  6.0\n",
            "764  6.0\n",
            "765  6.0\n",
            "766  6.0\n",
            "767  6.0\n",
            "\n",
            "[768 rows x 1 columns]\n"
          ]
        }
      ]
    },
    {
      "cell_type": "code",
      "source": [
        "normaliz_x = normalize(x)\n",
        "x_train,x_test,y_train,y_test = train_test_split(normaliz_x, y, test_size=0.3, shuffle=True)\n"
      ],
      "metadata": {
        "id": "czEmbNAb784D"
      },
      "execution_count": 186,
      "outputs": []
    },
    {
      "cell_type": "markdown",
      "source": [
        "Polynomial SVM"
      ],
      "metadata": {
        "id": "Ei0odI6OU6tC"
      }
    },
    {
      "cell_type": "code",
      "source": [
        "poly_svc = SVC(kernel='poly')\n",
        "poly_svc.fit(x_train, y_train.values.ravel())\n",
        "print(poly_svc.score(x_test,y_test))"
      ],
      "metadata": {
        "colab": {
          "base_uri": "https://localhost:8080/"
        },
        "id": "ZHeW7Dbs8pMR",
        "outputId": "574b23c5-7336-4e80-8c68-8ed94cd3e5a8"
      },
      "execution_count": 176,
      "outputs": [
        {
          "output_type": "stream",
          "name": "stdout",
          "text": [
            "0.7359307359307359\n"
          ]
        }
      ]
    },
    {
      "cell_type": "markdown",
      "source": [
        "MLP"
      ],
      "metadata": {
        "id": "2KSmYbyyU96x"
      }
    },
    {
      "cell_type": "code",
      "source": [
        "mlp_model=MLPClassifier(alpha=0.01, epsilon=1e-08, hidden_layer_sizes=(300,200,100), learning_rate='adaptive', max_iter=10000)\n",
        "mlp_model.fit(x_train,y_train)\n",
        "print(mlp_model.score(x_test,y_test))"
      ],
      "metadata": {
        "colab": {
          "base_uri": "https://localhost:8080/"
        },
        "id": "eWMVZqml8rzY",
        "outputId": "9dd60ce7-3897-47b9-c252-7a7dd1cb058b"
      },
      "execution_count": 187,
      "outputs": [
        {
          "output_type": "stream",
          "name": "stderr",
          "text": [
            "/usr/local/lib/python3.7/dist-packages/sklearn/neural_network/_multilayer_perceptron.py:1109: DataConversionWarning: A column-vector y was passed when a 1d array was expected. Please change the shape of y to (n_samples, ), for example using ravel().\n",
            "  y = column_or_1d(y, warn=True)\n"
          ]
        },
        {
          "output_type": "stream",
          "name": "stdout",
          "text": [
            "0.7878787878787878\n"
          ]
        }
      ]
    },
    {
      "cell_type": "markdown",
      "source": [
        "KNN"
      ],
      "metadata": {
        "id": "HcECxIgsVAYE"
      }
    },
    {
      "cell_type": "code",
      "source": [
        "neighbors = round(math.sqrt(537))\n",
        "knn = KNeighborsClassifier(n_neighbors=neighbors)\n",
        "knn.fit(x_train,y_train.values.ravel())\n",
        "print(knn.score(x_test,y_test))"
      ],
      "metadata": {
        "colab": {
          "base_uri": "https://localhost:8080/"
        },
        "id": "RAGPXREq9bVp",
        "outputId": "aad93725-57c0-4354-b2b3-5bb37c177e78"
      },
      "execution_count": 192,
      "outputs": [
        {
          "output_type": "stream",
          "name": "stdout",
          "text": [
            "0.6060606060606061\n"
          ]
        }
      ]
    },
    {
      "cell_type": "markdown",
      "source": [
        "Adaboost"
      ],
      "metadata": {
        "id": "Pwy5UQq6VCJz"
      }
    },
    {
      "cell_type": "code",
      "source": [
        "adbst_classifier = AdaBoostClassifier(n_estimators=500, learning_rate=0.1)\n",
        "adbst_classifier.fit(x_train,y_train)\n",
        "print(adbst_classifier.score(x_test,y_test))"
      ],
      "metadata": {
        "colab": {
          "base_uri": "https://localhost:8080/"
        },
        "id": "iJ_0cdTs9izC",
        "outputId": "0f329514-fdb7-4701-85a0-d3991a3a4be0"
      },
      "execution_count": 193,
      "outputs": [
        {
          "output_type": "stream",
          "name": "stderr",
          "text": [
            "/usr/local/lib/python3.7/dist-packages/sklearn/utils/validation.py:993: DataConversionWarning: A column-vector y was passed when a 1d array was expected. Please change the shape of y to (n_samples, ), for example using ravel().\n",
            "  y = column_or_1d(y, warn=True)\n"
          ]
        },
        {
          "output_type": "stream",
          "name": "stdout",
          "text": [
            "0.5974025974025974\n"
          ]
        }
      ]
    },
    {
      "cell_type": "markdown",
      "source": [
        "Strength of the Emotion with 20 mfcc"
      ],
      "metadata": {
        "id": "amtRN3Z-VC0m"
      }
    },
    {
      "cell_type": "code",
      "source": [
        "path = '/content/drive/MyDrive/emotion analysis/data_strength_20.csv'\n",
        "data = pd.read_csv(path)\n",
        "print(data)"
      ],
      "metadata": {
        "colab": {
          "base_uri": "https://localhost:8080/"
        },
        "id": "O3fpcnWgQimJ",
        "outputId": "433e1eb7-07cf-422b-ccee-4d4b3b2fca55"
      },
      "execution_count": 194,
      "outputs": [
        {
          "output_type": "stream",
          "name": "stdout",
          "text": [
            "      Unnamed: 0   mfcc0mean      mfcc0var  ...  mfcc9mean    mfcc9var    y\n",
            "0              0 -697.984192  33403.417969  ...  -2.524927   74.715950  1.0\n",
            "1              1 -693.069763  34133.593750  ...  -0.993780   67.129990  1.0\n",
            "2              2 -691.770142  36118.589844  ...  -3.344197   80.154922  1.0\n",
            "3              3 -685.237915  33945.070312  ...  -2.946320   70.905792  1.0\n",
            "4              4 -727.317932  33309.933594  ...  -4.470084   81.703636  1.0\n",
            "...          ...         ...           ...  ...        ...         ...  ...\n",
            "1435        1435 -586.762695  33574.347656  ...  -6.893698   91.481361  1.0\n",
            "1436        1436 -532.757446  35833.515625  ...  -3.168304  105.778252  2.0\n",
            "1437        1437 -541.550232  36588.097656  ...  -0.318764   81.114075  2.0\n",
            "1438        1438 -492.985962  38512.945312  ...  -4.018751  147.492828  2.0\n",
            "1439        1439 -518.293823  33614.339844  ...  -1.564242  103.520714  2.0\n",
            "\n",
            "[1440 rows x 42 columns]\n"
          ]
        }
      ]
    },
    {
      "cell_type": "code",
      "source": [
        "x = data.iloc[:, 1:-2]\n",
        "y = data[['y']]\n",
        "print(x)\n",
        "print(y)"
      ],
      "metadata": {
        "colab": {
          "base_uri": "https://localhost:8080/"
        },
        "id": "SAUe9OqpQtES",
        "outputId": "631a50aa-07ed-41e9-bca5-a22132749c29"
      },
      "execution_count": 195,
      "outputs": [
        {
          "output_type": "stream",
          "name": "stdout",
          "text": [
            "       mfcc0mean      mfcc0var  mfcc10mean  ...  mfcc8mean    mfcc8var  mfcc9mean\n",
            "0    -697.984192  33403.417969    0.496105  ... -11.305533  299.316803  -2.524927\n",
            "1    -693.069763  34133.593750    0.494107  ... -11.981820  303.310242  -0.993780\n",
            "2    -691.770142  36118.589844    0.264550  ... -10.638001  287.102600  -3.344197\n",
            "3    -685.237915  33945.070312    0.895644  ... -10.671633  218.365448  -2.946320\n",
            "4    -727.317932  33309.933594    0.639894  ... -10.113079  192.036972  -4.470084\n",
            "...          ...           ...         ...  ...        ...         ...        ...\n",
            "1435 -586.762695  33574.347656   -8.886349  ...  -6.811911  176.340927  -6.893698\n",
            "1436 -532.757446  35833.515625   -9.269098  ...  -8.727761  189.047867  -3.168304\n",
            "1437 -541.550232  36588.097656   -6.635955  ...  -7.334210  214.224899  -0.318764\n",
            "1438 -492.985962  38512.945312   -6.121341  ...  -1.773707  124.508644  -4.018751\n",
            "1439 -518.293823  33614.339844   -8.032579  ...  -8.602053  359.500244  -1.564242\n",
            "\n",
            "[1440 rows x 39 columns]\n",
            "        y\n",
            "0     1.0\n",
            "1     1.0\n",
            "2     1.0\n",
            "3     1.0\n",
            "4     1.0\n",
            "...   ...\n",
            "1435  1.0\n",
            "1436  2.0\n",
            "1437  2.0\n",
            "1438  2.0\n",
            "1439  2.0\n",
            "\n",
            "[1440 rows x 1 columns]\n"
          ]
        }
      ]
    },
    {
      "cell_type": "code",
      "source": [
        "normaliz_x = normalize(x)\n",
        "x_train,x_test,y_train,y_test = train_test_split(normaliz_x, y, test_size=0.3, shuffle=True)\n",
        "print(x_train.shape)"
      ],
      "metadata": {
        "colab": {
          "base_uri": "https://localhost:8080/"
        },
        "id": "VMPLANe2Q5JL",
        "outputId": "f40aebd0-43c9-4595-d8eb-0f50dfeb824b"
      },
      "execution_count": 202,
      "outputs": [
        {
          "output_type": "stream",
          "name": "stdout",
          "text": [
            "(1008, 39)\n"
          ]
        }
      ]
    },
    {
      "cell_type": "markdown",
      "source": [
        "KNN"
      ],
      "metadata": {
        "id": "34ohMirrVE9B"
      }
    },
    {
      "cell_type": "code",
      "source": [
        "neighbors = round(math.sqrt(1008)/2)\n",
        "knn = KNeighborsClassifier(n_neighbors=neighbors)\n",
        "knn.fit(x_train,y_train.values.ravel())\n",
        "print(knn.score(x_test,y_test))"
      ],
      "metadata": {
        "colab": {
          "base_uri": "https://localhost:8080/"
        },
        "id": "30nn-k-2Q9Qm",
        "outputId": "dd962330-c10f-4142-ab74-e20705f28ec8"
      },
      "execution_count": 203,
      "outputs": [
        {
          "output_type": "stream",
          "name": "stdout",
          "text": [
            "0.7430555555555556\n"
          ]
        }
      ]
    },
    {
      "cell_type": "markdown",
      "source": [
        "Polynomial SVM"
      ],
      "metadata": {
        "id": "EQIV4c1lVGVU"
      }
    },
    {
      "cell_type": "code",
      "source": [
        "poly_svc = SVC(kernel='poly')\n",
        "poly_svc.fit(x_train, y_train.values.ravel())\n",
        "print(poly_svc.score(x_test,y_test))"
      ],
      "metadata": {
        "colab": {
          "base_uri": "https://localhost:8080/"
        },
        "id": "0wpnCmOQREkS",
        "outputId": "4f96d7e9-7fa1-43c1-b5fb-18ecfaab9806"
      },
      "execution_count": 204,
      "outputs": [
        {
          "output_type": "stream",
          "name": "stdout",
          "text": [
            "0.7662037037037037\n"
          ]
        }
      ]
    },
    {
      "cell_type": "markdown",
      "source": [
        "Adaboost"
      ],
      "metadata": {
        "id": "vB1NQ_PxVIhU"
      }
    },
    {
      "cell_type": "code",
      "source": [
        "adbst_classifier = AdaBoostClassifier(n_estimators=500, learning_rate=0.1)\n",
        "adbst_classifier.fit(x_train,y_train)\n",
        "print(adbst_classifier.score(x_test,y_test))"
      ],
      "metadata": {
        "colab": {
          "base_uri": "https://localhost:8080/"
        },
        "id": "wSJM2LgiRQk2",
        "outputId": "c154a0cb-7c28-4e44-b028-55e64246d0c3"
      },
      "execution_count": 205,
      "outputs": [
        {
          "output_type": "stream",
          "name": "stderr",
          "text": [
            "/usr/local/lib/python3.7/dist-packages/sklearn/utils/validation.py:993: DataConversionWarning: A column-vector y was passed when a 1d array was expected. Please change the shape of y to (n_samples, ), for example using ravel().\n",
            "  y = column_or_1d(y, warn=True)\n"
          ]
        },
        {
          "output_type": "stream",
          "name": "stdout",
          "text": [
            "0.7523148148148148\n"
          ]
        }
      ]
    },
    {
      "cell_type": "markdown",
      "source": [
        "MLP"
      ],
      "metadata": {
        "id": "lboXSF3QVJ9M"
      }
    },
    {
      "cell_type": "code",
      "source": [
        "mlp_model=MLPClassifier(alpha=0.01, epsilon=1e-08, hidden_layer_sizes=(200,150,125,100,75,50,10,5), learning_rate='adaptive', max_iter=20000)\n",
        "mlp_model.fit(x_train,y_train)\n",
        "print(mlp_model.score(x_test,y_test))"
      ],
      "metadata": {
        "colab": {
          "base_uri": "https://localhost:8080/"
        },
        "id": "PwQ1iBDtmD_h",
        "outputId": "ef31d7a9-edde-4d73-a01e-5e37ee4ee5bf"
      },
      "execution_count": 218,
      "outputs": [
        {
          "output_type": "stream",
          "name": "stderr",
          "text": [
            "/usr/local/lib/python3.7/dist-packages/sklearn/neural_network/_multilayer_perceptron.py:1109: DataConversionWarning: A column-vector y was passed when a 1d array was expected. Please change the shape of y to (n_samples, ), for example using ravel().\n",
            "  y = column_or_1d(y, warn=True)\n"
          ]
        },
        {
          "output_type": "stream",
          "name": "stdout",
          "text": [
            "0.7777777777777778\n"
          ]
        }
      ]
    },
    {
      "cell_type": "markdown",
      "source": [
        "Doubling The Data - Emotion Recognition\n",
        "\n"
      ],
      "metadata": {
        "id": "u5Os4IueVO9O"
      }
    },
    {
      "cell_type": "code",
      "source": [
        "path = '/content/drive/MyDrive/emotion analysis/data_20_double.csv'\n",
        "data = pd.read_csv(path)\n",
        "x = data.iloc[:, 1:-2]\n",
        "y = data[['y']]\n",
        "normaliz_x = normalize(x)\n",
        "x_train,x_test,y_train,y_test = train_test_split(normaliz_x, y, test_size=0.3, shuffle=True)\n",
        "print(x_train.shape)"
      ],
      "metadata": {
        "colab": {
          "base_uri": "https://localhost:8080/"
        },
        "id": "3NH37xKuG-9i",
        "outputId": "e2c48b5c-546f-48a6-dde4-57b60c8e870d"
      },
      "execution_count": 13,
      "outputs": [
        {
          "output_type": "stream",
          "name": "stdout",
          "text": [
            "(1075, 39)\n"
          ]
        }
      ]
    },
    {
      "cell_type": "markdown",
      "source": [
        "Polynomial SVM"
      ],
      "metadata": {
        "id": "owQlg4_jVT_M"
      }
    },
    {
      "cell_type": "code",
      "source": [
        "poly_svc = SVC(kernel='poly')\n",
        "poly_svc.fit(x_train, y_train.values.ravel())\n",
        "print(poly_svc.score(x_test,y_test))"
      ],
      "metadata": {
        "colab": {
          "base_uri": "https://localhost:8080/"
        },
        "id": "RG9uOHy7HtOo",
        "outputId": "840531a7-7708-4b6c-d107-77e6287f97f3"
      },
      "execution_count": 14,
      "outputs": [
        {
          "output_type": "stream",
          "name": "stdout",
          "text": [
            "0.824295010845987\n"
          ]
        }
      ]
    },
    {
      "cell_type": "markdown",
      "source": [
        "Adaboost"
      ],
      "metadata": {
        "id": "8ryQT94jVW8l"
      }
    },
    {
      "cell_type": "code",
      "source": [
        "adbst_classifier = AdaBoostClassifier(n_estimators=500, learning_rate=0.1)\n",
        "adbst_classifier.fit(x_train,y_train)\n",
        "print(adbst_classifier.score(x_test,y_test))"
      ],
      "metadata": {
        "colab": {
          "base_uri": "https://localhost:8080/"
        },
        "id": "hf2DFUKEH1DF",
        "outputId": "cdb1f118-fa0f-4af8-fd0a-6f9628eceada"
      },
      "execution_count": 15,
      "outputs": [
        {
          "output_type": "stream",
          "name": "stderr",
          "text": [
            "/usr/local/lib/python3.7/dist-packages/sklearn/utils/validation.py:993: DataConversionWarning: A column-vector y was passed when a 1d array was expected. Please change the shape of y to (n_samples, ), for example using ravel().\n",
            "  y = column_or_1d(y, warn=True)\n"
          ]
        },
        {
          "output_type": "stream",
          "name": "stdout",
          "text": [
            "0.6637744034707158\n"
          ]
        }
      ]
    },
    {
      "cell_type": "markdown",
      "source": [
        "KNN"
      ],
      "metadata": {
        "id": "1wqsWE2bVYnu"
      }
    },
    {
      "cell_type": "code",
      "source": [
        "neighbors = round(math.sqrt(1075)/2)\n",
        "knn = KNeighborsClassifier(n_neighbors=neighbors)\n",
        "knn.fit(x_train,y_train.values.ravel())\n",
        "print(knn.score(x_test,y_test))"
      ],
      "metadata": {
        "colab": {
          "base_uri": "https://localhost:8080/"
        },
        "id": "TJaxmql0H9NN",
        "outputId": "3aced2a7-5356-4885-87da-33b4bcbe11c8"
      },
      "execution_count": 16,
      "outputs": [
        {
          "output_type": "stream",
          "name": "stdout",
          "text": [
            "0.6095444685466378\n"
          ]
        }
      ]
    },
    {
      "cell_type": "markdown",
      "source": [
        "MLP"
      ],
      "metadata": {
        "id": "JICOqmRJVdyz"
      }
    },
    {
      "cell_type": "code",
      "source": [
        "mlp_model=MLPClassifier(alpha=0.01, epsilon=1e-08, hidden_layer_sizes=(200,150,125), learning_rate='adaptive', max_iter=20000)\n",
        "mlp_model.fit(x_train,y_train)\n",
        "print(mlp_model.score(x_test,y_test))"
      ],
      "metadata": {
        "colab": {
          "base_uri": "https://localhost:8080/"
        },
        "id": "eO6KUL8nLwlI",
        "outputId": "daeaf41b-6d1c-4de8-dc76-21431b1907cd"
      },
      "execution_count": 18,
      "outputs": [
        {
          "output_type": "stream",
          "name": "stderr",
          "text": [
            "/usr/local/lib/python3.7/dist-packages/sklearn/neural_network/_multilayer_perceptron.py:1109: DataConversionWarning: A column-vector y was passed when a 1d array was expected. Please change the shape of y to (n_samples, ), for example using ravel().\n",
            "  y = column_or_1d(y, warn=True)\n"
          ]
        },
        {
          "output_type": "stream",
          "name": "stdout",
          "text": [
            "0.9262472885032538\n"
          ]
        }
      ]
    },
    {
      "cell_type": "code",
      "source": [
        "path = '/content/drive/MyDrive/emotion analysis/data_strength_20_double.csv'\n",
        "data = pd.read_csv(path)\n",
        "x = data.iloc[:, 1:-2]\n",
        "y = data[['y']]\n",
        "normaliz_x = normalize(x)\n",
        "x_train,x_test,y_train,y_test = train_test_split(normaliz_x, y, test_size=0.3, shuffle=True)\n",
        "print(x_train.shape)"
      ],
      "metadata": {
        "colab": {
          "base_uri": "https://localhost:8080/"
        },
        "id": "0zm6ARRVQTrx",
        "outputId": "2d3cf255-c39c-4ef4-b7f6-0e90a8e65bd3"
      },
      "execution_count": 23,
      "outputs": [
        {
          "output_type": "stream",
          "name": "stdout",
          "text": [
            "(2016, 39)\n"
          ]
        }
      ]
    },
    {
      "cell_type": "markdown",
      "source": [
        "Emotion Intensity"
      ],
      "metadata": {
        "id": "K8FS6XVSVgPn"
      }
    },
    {
      "cell_type": "markdown",
      "source": [
        "Polynomial SVM"
      ],
      "metadata": {
        "id": "OE8pYMwEVp4H"
      }
    },
    {
      "cell_type": "code",
      "source": [
        "poly_svc = SVC(kernel='poly')\n",
        "poly_svc.fit(x_train, y_train.values.ravel())\n",
        "print(poly_svc.score(x_test,y_test))"
      ],
      "metadata": {
        "colab": {
          "base_uri": "https://localhost:8080/"
        },
        "id": "0S6ty5yBQctG",
        "outputId": "b9cfdc6a-b304-4f76-f474-8f19b349db37"
      },
      "execution_count": 24,
      "outputs": [
        {
          "output_type": "stream",
          "name": "stdout",
          "text": [
            "0.7777777777777778\n"
          ]
        }
      ]
    },
    {
      "cell_type": "markdown",
      "source": [
        "Adaboost"
      ],
      "metadata": {
        "id": "DbPTDPpJVsMb"
      }
    },
    {
      "cell_type": "code",
      "source": [
        "adbst_classifier = AdaBoostClassifier(n_estimators=500, learning_rate=0.1)\n",
        "adbst_classifier.fit(x_train,y_train)\n",
        "print(adbst_classifier.score(x_test,y_test))"
      ],
      "metadata": {
        "colab": {
          "base_uri": "https://localhost:8080/"
        },
        "id": "DzfXApV2QjDG",
        "outputId": "48ee3cfd-138b-455f-e850-6e33ac75fd8d"
      },
      "execution_count": 25,
      "outputs": [
        {
          "output_type": "stream",
          "name": "stderr",
          "text": [
            "/usr/local/lib/python3.7/dist-packages/sklearn/utils/validation.py:993: DataConversionWarning: A column-vector y was passed when a 1d array was expected. Please change the shape of y to (n_samples, ), for example using ravel().\n",
            "  y = column_or_1d(y, warn=True)\n"
          ]
        },
        {
          "output_type": "stream",
          "name": "stdout",
          "text": [
            "0.75\n"
          ]
        }
      ]
    },
    {
      "cell_type": "markdown",
      "source": [
        "KNN"
      ],
      "metadata": {
        "id": "ECaKK9xhVtmw"
      }
    },
    {
      "cell_type": "code",
      "source": [
        "neighbors = round(math.sqrt(1075)/2)\n",
        "knn = KNeighborsClassifier(n_neighbors=neighbors)\n",
        "knn.fit(x_train,y_train.values.ravel())\n",
        "print(knn.score(x_test,y_test))"
      ],
      "metadata": {
        "colab": {
          "base_uri": "https://localhost:8080/"
        },
        "id": "wOPvkPvpQm82",
        "outputId": "bb01488f-1795-4fbd-e131-99aaf5abc8c2"
      },
      "execution_count": 26,
      "outputs": [
        {
          "output_type": "stream",
          "name": "stdout",
          "text": [
            "0.7534722222222222\n"
          ]
        }
      ]
    },
    {
      "cell_type": "markdown",
      "source": [
        "MLP"
      ],
      "metadata": {
        "id": "HfSiW5T1VvjT"
      }
    },
    {
      "cell_type": "code",
      "source": [
        "mlp_model=MLPClassifier(alpha=0.01, epsilon=1e-08, hidden_layer_sizes=(80,40), learning_rate='adaptive', max_iter=10000)\n",
        "mlp_model.fit(x_train,y_train)\n",
        "print(mlp_model.score(x_test,y_test))"
      ],
      "metadata": {
        "colab": {
          "base_uri": "https://localhost:8080/"
        },
        "id": "QyCFSqmfQpd3",
        "outputId": "808585e3-fd44-40a6-d7c9-dbd8454c0e6c"
      },
      "execution_count": 32,
      "outputs": [
        {
          "output_type": "stream",
          "name": "stderr",
          "text": [
            "/usr/local/lib/python3.7/dist-packages/sklearn/neural_network/_multilayer_perceptron.py:1109: DataConversionWarning: A column-vector y was passed when a 1d array was expected. Please change the shape of y to (n_samples, ), for example using ravel().\n",
            "  y = column_or_1d(y, warn=True)\n"
          ]
        },
        {
          "output_type": "stream",
          "name": "stdout",
          "text": [
            "0.7800925925925926\n"
          ]
        }
      ]
    }
  ]
}